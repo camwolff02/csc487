{
 "cells": [
  {
   "cell_type": "markdown",
   "metadata": {
    "editable": true,
    "slideshow": {
     "slide_type": ""
    },
    "tags": []
   },
   "source": [
    "### Lab 2.1: Perceptron Algorithm - Solution\n",
    "\n",
    "In this lab you will implement the perceptron algorithm presented in lecture using NumPy."
   ]
  },
  {
   "cell_type": "code",
   "execution_count": 1,
   "metadata": {},
   "outputs": [],
   "source": [
    "import numpy as np\n",
    "from palmerpenguins import load_penguins\n",
    "from mlxtend.plotting import plot_decision_regions\n",
    "from matplotlib import pyplot as plt"
   ]
  },
  {
   "cell_type": "markdown",
   "metadata": {},
   "source": [
    "Here we loading and format the Palmer penguins dataset for binary classification."
   ]
  },
  {
   "cell_type": "code",
   "execution_count": 2,
   "metadata": {},
   "outputs": [],
   "source": [
    "df = load_penguins()\n",
    "\n",
    "# drop rows with missing values\n",
    "df.dropna(inplace=True)\n",
    "\n",
    "# tricky code to randomly shuffle the rows\n",
    "df = df.sample(frac=1).reset_index(drop=True)\n",
    "\n",
    "# select only two specices\n",
    "df = df[(df['species']=='Adelie')|(df['species']=='Chinstrap')]\n",
    "\n",
    "# get two features\n",
    "X = df[['flipper_length_mm','bill_length_mm']].values\n",
    "\n",
    "# convert speces labels to -1 and 1\n",
    "y = df['species'].map({'Adelie':-1,'Chinstrap':1}).values"
   ]
  },
  {
   "cell_type": "markdown",
   "metadata": {},
   "source": [
    "To make the learning algorithm work more smoothly, we we will subtract the mean of each feature.\n",
    "\n",
    "Here `np.mean` calculates a mean, and `axis=0` tells NumPy to calculate the mean over the rows (calculate the mean of each column)."
   ]
  },
  {
   "cell_type": "code",
   "execution_count": 3,
   "metadata": {},
   "outputs": [],
   "source": [
    "X -= np.mean(X,axis=0)"
   ]
  },
  {
   "cell_type": "markdown",
   "metadata": {},
   "source": [
    "### Exercises\n",
    "\n",
    "Your task is to complete this class for the perceptron.  Fill in the `train_step`, `predict`, and `score` functions."
   ]
  },
  {
   "cell_type": "code",
   "execution_count": 4,
   "metadata": {
    "editable": true,
    "slideshow": {
     "slide_type": ""
    },
    "tags": []
   },
   "outputs": [],
   "source": [
    "class Perceptron:\n",
    "    def __init__(self,lr=1e-3):\n",
    "        # store the learning rate\n",
    "        self.lr = lr\n",
    "\n",
    "        # initialize the weights to small, normally-distributed values\n",
    "        self.w = np.random.normal(size=(2,))*0.01\n",
    "\n",
    "        # initialize the bias to zero\n",
    "        self.b = 0\n",
    "\n",
    "    def train_step(self,x,y):\n",
    "        \"\"\" Apply the first update rule shown in lecture.\n",
    "            Arguments:\n",
    "             x: data point of shape (2,)\n",
    "             y: label \n",
    "        \"\"\"\n",
    "        # WRITE CODE HERE\n",
    "        z = np.dot(self.w, x) + self.b\n",
    "        self.w += self.lr * (y-z) * x\n",
    "        self.b += self.lr * (y-z)\n",
    "    \n",
    "    def predict(self,X):\n",
    "        \"\"\" Calculate model prediction for all data points.\n",
    "            \n",
    "            Arguments:\n",
    "             X: data matrix of shape (N,2)   \n",
    "            Returns:\n",
    "             Predicted labels (-1 or 1) of shape (N,)\n",
    "        \"\"\"\n",
    "        # WRITE CODE HERE\n",
    "        # Hint: look at np.where\n",
    "        z = X@self.w + self.b\n",
    "        return np.where(z > 0, 1, -1) \n",
    "    \n",
    "    def score(self,X,y):\n",
    "        \"\"\" Calculate model accuracy\n",
    "            Arguments:\n",
    "             X: data matrix of shape (N,2)   \n",
    "             y: labels of shape (N,)\n",
    "            Returns:\n",
    "             Accuracy score\n",
    "        \"\"\"\n",
    "        # WRITE CODE HERE\n",
    "        # Accuracy = (TP + TN) / Total\n",
    "        return np.mean(self.predict(X) == y)"
   ]
  },
  {
   "cell_type": "markdown",
   "metadata": {},
   "source": [
    "Run the following code to train the model and print out the accuracy at each step."
   ]
  },
  {
   "cell_type": "code",
   "execution_count": 5,
   "metadata": {},
   "outputs": [
    {
     "name": "stdout",
     "output_type": "stream",
     "text": [
      "step 0: 0.6588785046728972\n",
      "step 1: 0.5280373831775701\n",
      "step 2: 0.9299065420560748\n",
      "step 3: 0.8785046728971962\n",
      "step 4: 0.8598130841121495\n",
      "step 5: 0.8598130841121495\n",
      "step 6: 0.8738317757009346\n",
      "step 7: 0.9112149532710281\n",
      "step 8: 0.822429906542056\n",
      "step 9: 0.8130841121495327\n",
      "step 10: 0.9252336448598131\n",
      "step 11: 0.8785046728971962\n",
      "step 12: 0.8785046728971962\n",
      "step 13: 0.8598130841121495\n",
      "step 14: 0.8504672897196262\n",
      "step 15: 0.8551401869158879\n",
      "step 16: 0.8785046728971962\n",
      "step 17: 0.8738317757009346\n",
      "step 18: 0.8785046728971962\n",
      "step 19: 0.8691588785046729\n",
      "step 20: 0.8598130841121495\n",
      "step 21: 0.8738317757009346\n",
      "step 22: 0.8738317757009346\n",
      "step 23: 0.8738317757009346\n",
      "step 24: 0.8785046728971962\n",
      "step 25: 0.8785046728971962\n",
      "step 26: 0.8785046728971962\n",
      "step 27: 0.8925233644859814\n",
      "step 28: 0.9252336448598131\n",
      "step 29: 0.9205607476635514\n",
      "step 30: 0.9205607476635514\n",
      "step 31: 0.9158878504672897\n",
      "step 32: 0.9252336448598131\n",
      "step 33: 0.9205607476635514\n",
      "step 34: 0.9299065420560748\n",
      "step 35: 0.9299065420560748\n",
      "step 36: 0.9252336448598131\n",
      "step 37: 0.9345794392523364\n",
      "step 38: 0.9299065420560748\n",
      "step 39: 0.9299065420560748\n",
      "step 40: 0.897196261682243\n",
      "step 41: 0.8785046728971962\n",
      "step 42: 0.9158878504672897\n",
      "step 43: 0.9252336448598131\n",
      "step 44: 0.9299065420560748\n",
      "step 45: 0.9299065420560748\n",
      "step 46: 0.9299065420560748\n",
      "step 47: 0.9252336448598131\n",
      "step 48: 0.9158878504672897\n",
      "step 49: 0.9112149532710281\n",
      "step 50: 0.8878504672897196\n",
      "step 51: 0.8878504672897196\n",
      "step 52: 0.8878504672897196\n",
      "step 53: 0.8925233644859814\n",
      "step 54: 0.9158878504672897\n",
      "step 55: 0.9158878504672897\n",
      "step 56: 0.9158878504672897\n",
      "step 57: 0.9252336448598131\n",
      "step 58: 0.9299065420560748\n",
      "step 59: 0.9299065420560748\n",
      "step 60: 0.9299065420560748\n",
      "step 61: 0.8925233644859814\n",
      "step 62: 0.8878504672897196\n",
      "step 63: 0.883177570093458\n",
      "step 64: 0.9112149532710281\n",
      "step 65: 0.897196261682243\n",
      "step 66: 0.8878504672897196\n",
      "step 67: 0.883177570093458\n",
      "step 68: 0.883177570093458\n",
      "step 69: 0.883177570093458\n",
      "step 70: 0.9158878504672897\n",
      "step 71: 0.883177570093458\n",
      "step 72: 0.8925233644859814\n",
      "step 73: 0.9158878504672897\n",
      "step 74: 0.8925233644859814\n",
      "step 75: 0.8925233644859814\n",
      "step 76: 0.9158878504672897\n",
      "step 77: 0.8925233644859814\n",
      "step 78: 0.883177570093458\n",
      "step 79: 0.883177570093458\n",
      "step 80: 0.883177570093458\n",
      "step 81: 0.883177570093458\n",
      "step 82: 0.883177570093458\n",
      "step 83: 0.883177570093458\n",
      "step 84: 0.9018691588785047\n",
      "step 85: 0.9018691588785047\n",
      "step 86: 0.9299065420560748\n",
      "step 87: 0.9299065420560748\n",
      "step 88: 0.9299065420560748\n",
      "step 89: 0.9299065420560748\n",
      "step 90: 0.9299065420560748\n",
      "step 91: 0.9299065420560748\n",
      "step 92: 0.9158878504672897\n",
      "step 93: 0.9158878504672897\n",
      "step 94: 0.9158878504672897\n",
      "step 95: 0.9205607476635514\n",
      "step 96: 0.9252336448598131\n",
      "step 97: 0.9299065420560748\n",
      "step 98: 0.9299065420560748\n",
      "step 99: 0.9299065420560748\n",
      "step 100: 0.9299065420560748\n",
      "step 101: 0.9299065420560748\n",
      "step 102: 0.9299065420560748\n",
      "step 103: 0.9299065420560748\n",
      "step 104: 0.9299065420560748\n",
      "step 105: 0.9345794392523364\n",
      "step 106: 0.9345794392523364\n",
      "step 107: 0.9299065420560748\n",
      "step 108: 0.9345794392523364\n",
      "step 109: 0.9392523364485982\n",
      "step 110: 0.9345794392523364\n",
      "step 111: 0.9345794392523364\n",
      "step 112: 0.9345794392523364\n",
      "step 113: 0.9299065420560748\n",
      "step 114: 0.9299065420560748\n",
      "step 115: 0.9299065420560748\n",
      "step 116: 0.9345794392523364\n",
      "step 117: 0.9299065420560748\n",
      "step 118: 0.9252336448598131\n",
      "step 119: 0.9205607476635514\n",
      "step 120: 0.9299065420560748\n",
      "step 121: 0.9392523364485982\n",
      "step 122: 0.9392523364485982\n",
      "step 123: 0.9392523364485982\n",
      "step 124: 0.9345794392523364\n",
      "step 125: 0.9345794392523364\n",
      "step 126: 0.9345794392523364\n",
      "step 127: 0.9345794392523364\n",
      "step 128: 0.9345794392523364\n",
      "step 129: 0.9345794392523364\n",
      "step 130: 0.9299065420560748\n",
      "step 131: 0.9345794392523364\n",
      "step 132: 0.9345794392523364\n",
      "step 133: 0.9345794392523364\n",
      "step 134: 0.9299065420560748\n",
      "step 135: 0.9345794392523364\n",
      "step 136: 0.9345794392523364\n",
      "step 137: 0.9299065420560748\n",
      "step 138: 0.9345794392523364\n",
      "step 139: 0.9299065420560748\n",
      "step 140: 0.9158878504672897\n",
      "step 141: 0.9112149532710281\n",
      "step 142: 0.9299065420560748\n",
      "step 143: 0.9299065420560748\n",
      "step 144: 0.9299065420560748\n",
      "step 145: 0.9252336448598131\n",
      "step 146: 0.9252336448598131\n",
      "step 147: 0.9252336448598131\n",
      "step 148: 0.9252336448598131\n",
      "step 149: 0.9252336448598131\n",
      "step 150: 0.9158878504672897\n",
      "step 151: 0.883177570093458\n",
      "step 152: 0.883177570093458\n",
      "step 153: 0.883177570093458\n",
      "step 154: 0.883177570093458\n",
      "step 155: 0.883177570093458\n",
      "step 156: 0.883177570093458\n",
      "step 157: 0.883177570093458\n",
      "step 158: 0.883177570093458\n",
      "step 159: 0.883177570093458\n",
      "step 160: 0.883177570093458\n",
      "step 161: 0.883177570093458\n",
      "step 162: 0.883177570093458\n",
      "step 163: 0.883177570093458\n",
      "step 164: 0.883177570093458\n",
      "step 165: 0.883177570093458\n",
      "step 166: 0.8878504672897196\n",
      "step 167: 0.8878504672897196\n",
      "step 168: 0.8878504672897196\n",
      "step 169: 0.8878504672897196\n",
      "step 170: 0.9158878504672897\n",
      "step 171: 0.9158878504672897\n",
      "step 172: 0.9158878504672897\n",
      "step 173: 0.9158878504672897\n",
      "step 174: 0.9158878504672897\n",
      "step 175: 0.9205607476635514\n",
      "step 176: 0.9205607476635514\n",
      "step 177: 0.9252336448598131\n",
      "step 178: 0.9252336448598131\n",
      "step 179: 0.9252336448598131\n",
      "step 180: 0.9205607476635514\n",
      "step 181: 0.9205607476635514\n",
      "step 182: 0.9158878504672897\n",
      "step 183: 0.9158878504672897\n",
      "step 184: 0.9252336448598131\n",
      "step 185: 0.9252336448598131\n",
      "step 186: 0.9392523364485982\n",
      "step 187: 0.9392523364485982\n",
      "step 188: 0.9392523364485982\n",
      "step 189: 0.9345794392523364\n",
      "step 190: 0.9392523364485982\n",
      "step 191: 0.9392523364485982\n",
      "step 192: 0.9392523364485982\n",
      "step 193: 0.9392523364485982\n",
      "step 194: 0.9392523364485982\n",
      "step 195: 0.9392523364485982\n",
      "step 196: 0.9252336448598131\n",
      "step 197: 0.9439252336448598\n",
      "step 198: 0.9532710280373832\n",
      "step 199: 0.9392523364485982\n",
      "step 200: 0.9299065420560748\n",
      "step 201: 0.9252336448598131\n",
      "step 202: 0.9252336448598131\n",
      "step 203: 0.9252336448598131\n",
      "step 204: 0.9252336448598131\n",
      "step 205: 0.9252336448598131\n",
      "step 206: 0.9252336448598131\n",
      "step 207: 0.9392523364485982\n",
      "step 208: 0.9439252336448598\n",
      "step 209: 0.9392523364485982\n",
      "step 210: 0.9252336448598131\n",
      "step 211: 0.9252336448598131\n",
      "step 212: 0.9252336448598131\n",
      "step 213: 0.9252336448598131\n"
     ]
    }
   ],
   "source": [
    "model = Perceptron()\n",
    "for i, (X_i, y_i) in enumerate(zip(X, y)):\n",
    "    model.train_step(X_i, y_i)\n",
    "    print(f'step {i}: {model.score(X,y)}')"
   ]
  },
  {
   "cell_type": "markdown",
   "metadata": {},
   "source": [
    "Finally we plot the decision regions.  (The blue part isn't shown because it doesn't like the -1 label.)"
   ]
  },
  {
   "cell_type": "code",
   "execution_count": 6,
   "metadata": {
    "editable": true,
    "slideshow": {
     "slide_type": ""
    },
    "tags": []
   },
   "outputs": [
    {
     "data": {
      "text/plain": [
       "<Axes: >"
      ]
     },
     "execution_count": 6,
     "metadata": {},
     "output_type": "execute_result"
    },
    {
     "data": {
      "image/png": "[encoded data removed]",
      "text/plain": [
       "<Figure size 640x480 with 1 Axes>"
      ]
     },
     "metadata": {},
     "output_type": "display_data"
    }
   ],
   "source": [
    "plot_decision_regions(X, y, clf=model, legend=0, markers='o')"
   ]
  }
 ],
 "metadata": {
  "kernelspec": {
   "display_name": "Python 3 (ipykernel)",
   "language": "python",
   "name": "python3"
  },
  "language_info": {
   "codemirror_mode": {
    "name": "ipython",
    "version": 3
   },
   "file_extension": ".py",
   "mimetype": "text/x-python",
   "name": "python",
   "nbconvert_exporter": "python",
   "pygments_lexer": "ipython3",
   "version": "3.12.3"
  }
 },
 "nbformat": 4,
 "nbformat_minor": 4
}
