{
 "cells": [
  {
   "cell_type": "code",
   "execution_count": 1,
   "id": "3d16067b-edf5-4689-9a35-532088be7bbd",
   "metadata": {},
   "outputs": [],
   "source": [
    "# Importing packages\n",
    "import kagglehub\n",
    "import matplotlib.pyplot as plt\n",
    "import os\n",
    "import polars as pl\n",
    "from sklearn.model_selection import train_test_split\n",
    "import torch\n",
    "from torch import nn\n",
    "from torch.utils.data import TensorDataset, DataLoader\n",
    "from torch.utils.tensorboard import SummaryWriter"
   ]
  },
  {
   "cell_type": "markdown",
   "id": "b09f42b0-50fb-42d3-97c8-24a2830e264c",
   "metadata": {},
   "source": [
    "### Load Dataset"
   ]
  },
  {
   "cell_type": "code",
   "execution_count": 2,
   "id": "e044c92b-bc24-4fa5-8775-479b6d68b55d",
   "metadata": {},
   "outputs": [
    {
     "data": {
      "text/html": [
       "<div><style>\n",
       ".dataframe > thead > tr,\n",
       ".dataframe > tbody > tr {\n",
       "  text-align: right;\n",
       "  white-space: pre-wrap;\n",
       "}\n",
       "</style>\n",
       "<small>shape: (5, 18)</small><table border=\"1\" class=\"dataframe\"><thead><tr><th>obj_ID</th><th>alpha</th><th>delta</th><th>u</th><th>g</th><th>r</th><th>i</th><th>z</th><th>run_ID</th><th>rerun_ID</th><th>cam_col</th><th>field_ID</th><th>spec_obj_ID</th><th>class</th><th>redshift</th><th>plate</th><th>MJD</th><th>fiber_ID</th></tr><tr><td>f64</td><td>f64</td><td>f64</td><td>f64</td><td>f64</td><td>f64</td><td>f64</td><td>f64</td><td>i64</td><td>i64</td><td>i64</td><td>i64</td><td>f64</td><td>str</td><td>f64</td><td>i64</td><td>i64</td><td>i64</td></tr></thead><tbody><tr><td>1.2377e18</td><td>135.689107</td><td>32.494632</td><td>23.87882</td><td>22.2753</td><td>20.39501</td><td>19.16573</td><td>18.79371</td><td>3606</td><td>301</td><td>2</td><td>79</td><td>6.5438e18</td><td>&quot;GALAXY&quot;</td><td>0.6347936</td><td>5812</td><td>56354</td><td>171</td></tr><tr><td>1.2377e18</td><td>144.826101</td><td>31.274185</td><td>24.77759</td><td>22.83188</td><td>22.58444</td><td>21.16812</td><td>21.61427</td><td>4518</td><td>301</td><td>5</td><td>119</td><td>1.1760e19</td><td>&quot;GALAXY&quot;</td><td>0.779136</td><td>10445</td><td>58158</td><td>427</td></tr><tr><td>1.2377e18</td><td>142.18879</td><td>35.582444</td><td>25.26307</td><td>22.66389</td><td>20.60976</td><td>19.34857</td><td>18.94827</td><td>3606</td><td>301</td><td>2</td><td>120</td><td>5.1522e18</td><td>&quot;GALAXY&quot;</td><td>0.6441945</td><td>4576</td><td>55592</td><td>299</td></tr><tr><td>1.2377e18</td><td>338.741038</td><td>-0.402828</td><td>22.13682</td><td>23.77656</td><td>21.61162</td><td>20.50454</td><td>19.2501</td><td>4192</td><td>301</td><td>3</td><td>214</td><td>1.0301e19</td><td>&quot;GALAXY&quot;</td><td>0.9323456</td><td>9149</td><td>58039</td><td>775</td></tr><tr><td>1.2377e18</td><td>345.282593</td><td>21.183866</td><td>19.43718</td><td>17.58028</td><td>16.49747</td><td>15.97711</td><td>15.54461</td><td>8102</td><td>301</td><td>3</td><td>137</td><td>6.8919e18</td><td>&quot;GALAXY&quot;</td><td>0.1161227</td><td>6121</td><td>56187</td><td>842</td></tr></tbody></table></div>"
      ],
      "text/plain": [
       "shape: (5, 18)\n",
       "┌───────────┬────────────┬───────────┬──────────┬───┬───────────┬───────┬───────┬──────────┐\n",
       "│ obj_ID    ┆ alpha      ┆ delta     ┆ u        ┆ … ┆ redshift  ┆ plate ┆ MJD   ┆ fiber_ID │\n",
       "│ ---       ┆ ---        ┆ ---       ┆ ---      ┆   ┆ ---       ┆ ---   ┆ ---   ┆ ---      │\n",
       "│ f64       ┆ f64        ┆ f64       ┆ f64      ┆   ┆ f64       ┆ i64   ┆ i64   ┆ i64      │\n",
       "╞═══════════╪════════════╪═══════════╪══════════╪═══╪═══════════╪═══════╪═══════╪══════════╡\n",
       "│ 1.2377e18 ┆ 135.689107 ┆ 32.494632 ┆ 23.87882 ┆ … ┆ 0.6347936 ┆ 5812  ┆ 56354 ┆ 171      │\n",
       "│ 1.2377e18 ┆ 144.826101 ┆ 31.274185 ┆ 24.77759 ┆ … ┆ 0.779136  ┆ 10445 ┆ 58158 ┆ 427      │\n",
       "│ 1.2377e18 ┆ 142.18879  ┆ 35.582444 ┆ 25.26307 ┆ … ┆ 0.6441945 ┆ 4576  ┆ 55592 ┆ 299      │\n",
       "│ 1.2377e18 ┆ 338.741038 ┆ -0.402828 ┆ 22.13682 ┆ … ┆ 0.9323456 ┆ 9149  ┆ 58039 ┆ 775      │\n",
       "│ 1.2377e18 ┆ 345.282593 ┆ 21.183866 ┆ 19.43718 ┆ … ┆ 0.1161227 ┆ 6121  ┆ 56187 ┆ 842      │\n",
       "└───────────┴────────────┴───────────┴──────────┴───┴───────────┴───────┴───────┴──────────┘"
      ]
     },
     "execution_count": 2,
     "metadata": {},
     "output_type": "execute_result"
    }
   ],
   "source": [
    "# Download latest version\n",
    "path = kagglehub.dataset_download(\"fedesoriano/stellar-classification-dataset-sdss17\")\n",
    "df = pl.read_csv(os.path.join(path, \"star_classification.csv\"), infer_schema_length=10000)\n",
    "df.head()"
   ]
  },
  {
   "cell_type": "markdown",
   "id": "8583234b-2a92-4386-a68d-d6e0ea5834b5",
   "metadata": {},
   "source": [
    "### Data Preprocessing"
   ]
  },
  {
   "cell_type": "code",
   "execution_count": 3,
   "id": "e1520e09-6392-4324-8fe9-65e990de7fa2",
   "metadata": {},
   "outputs": [
    {
     "data": {
      "text/html": [
       "<div><style>\n",
       ".dataframe > thead > tr,\n",
       ".dataframe > tbody > tr {\n",
       "  text-align: right;\n",
       "  white-space: pre-wrap;\n",
       "}\n",
       "</style>\n",
       "<small>shape: (5, 8)</small><table border=\"1\" class=\"dataframe\"><thead><tr><th>alpha</th><th>delta</th><th>u</th><th>g</th><th>r</th><th>i</th><th>z</th><th>redshift</th></tr><tr><td>f32</td><td>f32</td><td>f32</td><td>f32</td><td>f32</td><td>f32</td><td>f32</td><td>f32</td></tr></thead><tbody><tr><td>135.689102</td><td>32.494633</td><td>23.87882</td><td>22.275299</td><td>20.39501</td><td>19.16573</td><td>18.793711</td><td>0.634794</td></tr><tr><td>144.826096</td><td>31.274185</td><td>24.77759</td><td>22.831881</td><td>22.58444</td><td>21.168119</td><td>21.614269</td><td>0.779136</td></tr><tr><td>142.188797</td><td>35.582443</td><td>25.263069</td><td>22.663891</td><td>20.60976</td><td>19.34857</td><td>18.948271</td><td>0.644194</td></tr><tr><td>338.741028</td><td>-0.402828</td><td>22.13682</td><td>23.77656</td><td>21.61162</td><td>20.504539</td><td>19.250099</td><td>0.932346</td></tr><tr><td>345.282593</td><td>21.183867</td><td>19.43718</td><td>17.58028</td><td>16.497471</td><td>15.97711</td><td>15.54461</td><td>0.116123</td></tr></tbody></table></div>"
      ],
      "text/plain": [
       "shape: (5, 8)\n",
       "┌────────────┬───────────┬───────────┬───────────┬───────────┬───────────┬───────────┬──────────┐\n",
       "│ alpha      ┆ delta     ┆ u         ┆ g         ┆ r         ┆ i         ┆ z         ┆ redshift │\n",
       "│ ---        ┆ ---       ┆ ---       ┆ ---       ┆ ---       ┆ ---       ┆ ---       ┆ ---      │\n",
       "│ f32        ┆ f32       ┆ f32       ┆ f32       ┆ f32       ┆ f32       ┆ f32       ┆ f32      │\n",
       "╞════════════╪═══════════╪═══════════╪═══════════╪═══════════╪═══════════╪═══════════╪══════════╡\n",
       "│ 135.689102 ┆ 32.494633 ┆ 23.87882  ┆ 22.275299 ┆ 20.39501  ┆ 19.16573  ┆ 18.793711 ┆ 0.634794 │\n",
       "│ 144.826096 ┆ 31.274185 ┆ 24.77759  ┆ 22.831881 ┆ 22.58444  ┆ 21.168119 ┆ 21.614269 ┆ 0.779136 │\n",
       "│ 142.188797 ┆ 35.582443 ┆ 25.263069 ┆ 22.663891 ┆ 20.60976  ┆ 19.34857  ┆ 18.948271 ┆ 0.644194 │\n",
       "│ 338.741028 ┆ -0.402828 ┆ 22.13682  ┆ 23.77656  ┆ 21.61162  ┆ 20.504539 ┆ 19.250099 ┆ 0.932346 │\n",
       "│ 345.282593 ┆ 21.183867 ┆ 19.43718  ┆ 17.58028  ┆ 16.497471 ┆ 15.97711  ┆ 15.54461  ┆ 0.116123 │\n",
       "└────────────┴───────────┴───────────┴───────────┴───────────┴───────────┴───────────┴──────────┘"
      ]
     },
     "execution_count": 3,
     "metadata": {},
     "output_type": "execute_result"
    }
   ],
   "source": [
    "# Separate data and labels, dropping irrelevant/ID features to predicting class\n",
    "not_features = [\"class\", \"obj_ID\", \"run_ID\", \"rerun_ID\", \"cam_col\", \"field_ID\", \"spec_obj_ID\", \"plate\", \"MJD\", \"fiber_ID\"]\n",
    "X_df, y_df_str = df.drop(not_features), df[\"class\"]\n",
    "\n",
    "# Convert labels to enum for numeric computation\n",
    "labels = pl.Enum([\"GALAXY\", \"STAR\", \"QSO\"])\n",
    "y_df = pl.Series(y_df_str, dtype=labels)\n",
    "\n",
    "# Convert data to 32-bit precision\n",
    "X_df = X_df.cast(pl.Float32)\n",
    "\n",
    "# Create train-test-validation split\n",
    "test_size = 0.10\n",
    "X_train, X_test, y_train, y_test = train_test_split(\n",
    "    X_df, y_df.to_physical(), test_size=test_size, random_state=42)\n",
    "X_train, X_validate, y_train, y_validate = train_test_split(\n",
    "    X_train, y_train, test_size=test_size/(1 - test_size), random_state=42)\n",
    "\n",
    "# Create a dataloader (with GPU acceleration if availible\n",
    "device = torch.device(\"cuda\" if torch.cuda.is_available() else \"cpu\")\n",
    "\n",
    "X_train_tensor, y_train_tensor = X_train.to_torch().to(device), y_train.to_torch().to(device)\n",
    "X_test_tensor, y_test_tensor = X_test.to_torch().to(device), y_test.to_torch().to(device)\n",
    "X_validate_tensor, y_validate_tensor = X_validate.to_torch().to(device), y_validate.to_torch().to(device)\n",
    "train_loader = DataLoader(\n",
    "    TensorDataset(X_train_tensor, y_train_tensor),\n",
    "    batch_size=32, \n",
    "    shuffle=True)\n",
    "\n",
    "# Min max normalization\n",
    "# X_df = X_df.select((pl.all() - pl.all().min()) / (pl.all().max() - pl.all().min()))\n",
    "\n",
    "X_df.head()"
   ]
  },
  {
   "cell_type": "markdown",
   "id": "94586998-30c1-4545-899e-fb4952bd5e01",
   "metadata": {},
   "source": [
    "### Helper Functions"
   ]
  },
  {
   "cell_type": "code",
   "execution_count": 32,
   "id": "fe59d39f-60a4-4ffa-bbae-b17661c7c059",
   "metadata": {},
   "outputs": [],
   "source": [
    "# Create writer to plot training data\n",
    "writer = SummaryWriter(\"runs/\")\n",
    "\n",
    "def calc_accuracy(model: nn.Module, X: torch.Tensor, y: torch.Tensor) -> float:\n",
    "    model.eval()  # set model to evaluation mode\n",
    "    z = model(X)\n",
    "    pred = torch.argmax(z, dim=-1)\n",
    "    acc = (pred == y).float().mean().item()\n",
    "    return acc\n",
    "\n",
    "def train_model(\n",
    "    model: nn.Module, \n",
    "    opt: torch.optim.Optimizer,\n",
    "    dataloader: DataLoader,\n",
    "    loss_fn: nn.Module = nn.CrossEntropyLoss(),\n",
    "    epochs: int = 100,\n",
    "    plot_every: int = 5,\n",
    ") -> None:\n",
    "    model.train()  # set model to training mode\n",
    "\n",
    "    n_total_steps = len(dataloader)\n",
    "    \n",
    "    # create metrics to display while training\n",
    "    running_loss = 0.0\n",
    "    running_correct = 0\n",
    "    \n",
    "    for epoch in range(epochs):\n",
    "        for (X_batch, y_batch) in dataloader:\n",
    "            opt.zero_grad()\n",
    "\n",
    "            z = model(X_batch)\n",
    "            loss = loss_fn(z,y_batch)\n",
    "\n",
    "            loss.backward()\n",
    "            opt.step()\n",
    "\n",
    "            # calculate metrics\n",
    "            running_loss = loss.item()\n",
    "            predicted = torch.argmax(z, dim=-1)\n",
    "            running_correct += (predicted == y_batch).sum().item()\n",
    "\n",
    "            if (epoch+1) % plot_every == 0:\n",
    "                writer.add_scalar('training loss', running_loss / plot_every, epoch * n_total_steps + epoch)\n",
    "                writer.add_scalar('accuracy', running_correct / plot_every, epoch * n_total_steps + epoch)\n",
    "                running_loss = 0.0\n",
    "                running_correct = 0"
   ]
  },
  {
   "cell_type": "markdown",
   "id": "97b52265-b915-4d32-8d8e-6db47c2c86e1",
   "metadata": {},
   "source": [
    "### Training "
   ]
  },
  {
   "cell_type": "markdown",
   "id": "2333bdc4-f581-4776-ad2c-bd6cc0783091",
   "metadata": {},
   "source": [
    "Training a simple linear model on data"
   ]
  },
  {
   "cell_type": "code",
   "execution_count": 33,
   "id": "89f37f3e-6ed5-478b-b7df-76fdb8cea86a",
   "metadata": {},
   "outputs": [
    {
     "ename": "TypeError",
     "evalue": "calc_accuracy() takes 3 positional arguments but 4 were given",
     "output_type": "error",
     "traceback": [
      "\u001b[0;31m---------------------------------------------------------------------------\u001b[0m",
      "\u001b[0;31mTypeError\u001b[0m                                 Traceback (most recent call last)",
      "Cell \u001b[0;32mIn[33], line 13\u001b[0m\n\u001b[1;32m     10\u001b[0m train_model(simple_nn, opt, train_loader)\n\u001b[1;32m     12\u001b[0m \u001b[38;5;66;03m# Evaluate model\u001b[39;00m\n\u001b[0;32m---> 13\u001b[0m train_acc \u001b[38;5;241m=\u001b[39m \u001b[43mcalc_accuracy\u001b[49m\u001b[43m(\u001b[49m\u001b[43msimple_nn\u001b[49m\u001b[43m,\u001b[49m\u001b[43m \u001b[49m\u001b[43mX_train_tensor\u001b[49m\u001b[43m,\u001b[49m\u001b[43m \u001b[49m\u001b[43my_train_tensor\u001b[49m\u001b[43m,\u001b[49m\u001b[43m \u001b[49m\u001b[43my_test_tensor\u001b[49m\u001b[43m)\u001b[49m\n\u001b[1;32m     14\u001b[0m test_acc \u001b[38;5;241m=\u001b[39m calc_accuracy(simple_nn, X_test_tensor, y_test_tensor)\n\u001b[1;32m     16\u001b[0m \u001b[38;5;28mprint\u001b[39m(\u001b[38;5;124mf\u001b[39m\u001b[38;5;124m'\u001b[39m\u001b[38;5;124mtrain acc: \u001b[39m\u001b[38;5;132;01m{\u001b[39;00mtrain_acc\u001b[38;5;132;01m}\u001b[39;00m\u001b[38;5;124m, test acc: \u001b[39m\u001b[38;5;132;01m{\u001b[39;00mtest_acc\u001b[38;5;132;01m}\u001b[39;00m\u001b[38;5;124m'\u001b[39m)\n",
      "\u001b[0;31mTypeError\u001b[0m: calc_accuracy() takes 3 positional arguments but 4 were given"
     ]
    }
   ],
   "source": [
    "# Create and train model\n",
    "simple_nn = nn.Sequential(\n",
    "    nn.Linear(8, 100),\n",
    "    nn.ReLU(),\n",
    "    nn.Linear(100, 3)\n",
    ").to(device)\n",
    "\n",
    "opt = torch.optim.SGD(simple_nn.parameters(), lr=1e-2)\n",
    "\n",
    "train_model(simple_nn, opt, train_loader)\n",
    "\n",
    "# Evaluate model\n",
    "train_acc = calc_accuracy(simple_nn, X_train_tensor, y_train_tensor, y_test_tensor)\n",
    "test_acc = calc_accuracy(simple_nn, X_test_tensor, y_test_tensor)\n",
    "\n",
    "print(f'train acc: {train_acc}, test acc: {test_acc}')"
   ]
  },
  {
   "cell_type": "markdown",
   "id": "ecef6a36-9f85-4e23-ad1a-3c0b2a4abd7b",
   "metadata": {},
   "source": [
    "Pretty good, but let's try and do better"
   ]
  },
  {
   "cell_type": "code",
   "execution_count": null,
   "id": "4a6f427b-3c38-49bd-8c4a-d63dfff87d9d",
   "metadata": {},
   "outputs": [],
   "source": []
  }
 ],
 "metadata": {
  "kernelspec": {
   "display_name": "Python 3 (ipykernel)",
   "language": "python",
   "name": "python3"
  },
  "language_info": {
   "codemirror_mode": {
    "name": "ipython",
    "version": 3
   },
   "file_extension": ".py",
   "mimetype": "text/x-python",
   "name": "python",
   "nbconvert_exporter": "python",
   "pygments_lexer": "ipython3",
   "version": "3.12.3"
  }
 },
 "nbformat": 4,
 "nbformat_minor": 5
}
