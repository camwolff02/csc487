{
 "cells": [
  {
   "cell_type": "markdown",
   "metadata": {
    "id": "M4X00o6AYKEl"
   },
   "source": [
    "### Lab 7.1: Bag of Words Model\n",
    "\n",
    "In this lab you will use the bag of words model to learn author attribution with a [dataset of texts from Victorian authors](https://github.com/agungor2/Authorship_Attribution?tab=readme-ov-file)."
   ]
  },
  {
   "cell_type": "code",
   "execution_count": 2,
   "metadata": {
    "id": "eNzZsS19pFxI"
   },
   "outputs": [
    {
     "name": "stderr",
     "output_type": "stream",
     "text": [
      "/home/cam/miniforge3/envs/jupyter_dl/lib/python3.9/site-packages/tqdm/auto.py:21: TqdmWarning: IProgress not found. Please update jupyter and ipywidgets. See https://ipywidgets.readthedocs.io/en/stable/user_install.html\n",
      "  from .autonotebook import tqdm as notebook_tqdm\n"
     ]
    }
   ],
   "source": [
    "import numpy as np\n",
    "import sklearn\n",
    "import pandas as pd\n",
    "import kagglehub"
   ]
  },
  {
   "cell_type": "markdown",
   "metadata": {
    "id": "R6EgVxxbcGBN"
   },
   "source": [
    "Here we download the CSV file containing the text snippets and author IDs."
   ]
  },
  {
   "cell_type": "code",
   "execution_count": 3,
   "metadata": {
    "id": "nHGLy49dpcvv"
   },
   "outputs": [],
   "source": [
    "!wget --no-clobber -O Gungor_2018_VictorianAuthorAttribution_data-train.csv -q https://www.dropbox.com/scl/fi/emk9db05t9u8yzgrjje7t/Gungor_2018_VictorianAuthorAttribution_data-train.csv?rlkey=kzvbl0mbpnrpjr4c3q18le6w2&dl=1"
   ]
  },
  {
   "cell_type": "code",
   "execution_count": 4,
   "metadata": {
    "colab": {
     "base_uri": "https://localhost:8080/",
     "height": 204
    },
    "id": "NEczcgxSplh6",
    "outputId": "8ddd53ae-54ba-4628-ff7f-d0bf25c5c895"
   },
   "outputs": [
    {
     "data": {
      "text/html": [
       "<div>\n",
       "<style scoped>\n",
       "    .dataframe tbody tr th:only-of-type {\n",
       "        vertical-align: middle;\n",
       "    }\n",
       "\n",
       "    .dataframe tbody tr th {\n",
       "        vertical-align: top;\n",
       "    }\n",
       "\n",
       "    .dataframe thead th {\n",
       "        text-align: right;\n",
       "    }\n",
       "</style>\n",
       "<table border=\"1\" class=\"dataframe\">\n",
       "  <thead>\n",
       "    <tr style=\"text-align: right;\">\n",
       "      <th></th>\n",
       "      <th>text</th>\n",
       "      <th>author</th>\n",
       "    </tr>\n",
       "  </thead>\n",
       "  <tbody>\n",
       "    <tr>\n",
       "      <th>0</th>\n",
       "      <td>ou have time to listen i will give you the ent...</td>\n",
       "      <td>1</td>\n",
       "    </tr>\n",
       "    <tr>\n",
       "      <th>1</th>\n",
       "      <td>wish for solitude he was twenty years of age a...</td>\n",
       "      <td>1</td>\n",
       "    </tr>\n",
       "    <tr>\n",
       "      <th>2</th>\n",
       "      <td>and the skirt blew in perfect freedom about th...</td>\n",
       "      <td>1</td>\n",
       "    </tr>\n",
       "    <tr>\n",
       "      <th>3</th>\n",
       "      <td>of san and the rows of shops opposite impresse...</td>\n",
       "      <td>1</td>\n",
       "    </tr>\n",
       "    <tr>\n",
       "      <th>4</th>\n",
       "      <td>an hour s walk was as tiresome as three in a s...</td>\n",
       "      <td>1</td>\n",
       "    </tr>\n",
       "  </tbody>\n",
       "</table>\n",
       "</div>"
      ],
      "text/plain": [
       "                                                text  author\n",
       "0  ou have time to listen i will give you the ent...       1\n",
       "1  wish for solitude he was twenty years of age a...       1\n",
       "2  and the skirt blew in perfect freedom about th...       1\n",
       "3  of san and the rows of shops opposite impresse...       1\n",
       "4  an hour s walk was as tiresome as three in a s...       1"
      ]
     },
     "execution_count": 4,
     "metadata": {},
     "output_type": "execute_result"
    }
   ],
   "source": [
    "df = pd.read_csv('Gungor_2018_VictorianAuthorAttribution_data-train.csv', encoding = \"ISO-8859-1\")\n",
    "df.head()"
   ]
  },
  {
   "cell_type": "code",
   "execution_count": 5,
   "metadata": {},
   "outputs": [
    {
     "data": {
      "text/html": [
       "<div>\n",
       "<style scoped>\n",
       "    .dataframe tbody tr th:only-of-type {\n",
       "        vertical-align: middle;\n",
       "    }\n",
       "\n",
       "    .dataframe tbody tr th {\n",
       "        vertical-align: top;\n",
       "    }\n",
       "\n",
       "    .dataframe thead th {\n",
       "        text-align: right;\n",
       "    }\n",
       "</style>\n",
       "<table border=\"1\" class=\"dataframe\">\n",
       "  <thead>\n",
       "    <tr style=\"text-align: right;\">\n",
       "      <th></th>\n",
       "      <th>text</th>\n",
       "      <th>author</th>\n",
       "    </tr>\n",
       "  </thead>\n",
       "  <tbody>\n",
       "    <tr>\n",
       "      <th>53673</th>\n",
       "      <td>after surrounding and searching the whole plac...</td>\n",
       "      <td>50</td>\n",
       "    </tr>\n",
       "    <tr>\n",
       "      <th>53674</th>\n",
       "      <td>giant who could make a young earthquake or a w...</td>\n",
       "      <td>50</td>\n",
       "    </tr>\n",
       "    <tr>\n",
       "      <th>53675</th>\n",
       "      <td>waters of the lake at the bottom of the hill c...</td>\n",
       "      <td>50</td>\n",
       "    </tr>\n",
       "    <tr>\n",
       "      <th>53676</th>\n",
       "      <td>fingers and thumb in it exactly as it came out...</td>\n",
       "      <td>50</td>\n",
       "    </tr>\n",
       "    <tr>\n",
       "      <th>53677</th>\n",
       "      <td>giant s sake he won t meet with for if he does...</td>\n",
       "      <td>50</td>\n",
       "    </tr>\n",
       "  </tbody>\n",
       "</table>\n",
       "</div>"
      ],
      "text/plain": [
       "                                                    text  author\n",
       "53673  after surrounding and searching the whole plac...      50\n",
       "53674  giant who could make a young earthquake or a w...      50\n",
       "53675  waters of the lake at the bottom of the hill c...      50\n",
       "53676  fingers and thumb in it exactly as it came out...      50\n",
       "53677  giant s sake he won t meet with for if he does...      50"
      ]
     },
     "execution_count": 5,
     "metadata": {},
     "output_type": "execute_result"
    }
   ],
   "source": [
    "df.tail()"
   ]
  },
  {
   "cell_type": "code",
   "execution_count": 6,
   "metadata": {
    "id": "PGpnyq9EpvE4"
   },
   "outputs": [],
   "source": [
    "text = list(df['text'])\n",
    "labels = df['author'].values"
   ]
  },
  {
   "cell_type": "code",
   "execution_count": 7,
   "metadata": {
    "colab": {
     "base_uri": "https://localhost:8080/",
     "height": 137
    },
    "id": "BPDH_z93QOxn",
    "outputId": "a259aa9c-3e07-4f5a-be77-8789961d07eb"
   },
   "outputs": [
    {
     "data": {
      "text/plain": [
       "'ou have time to listen i will give you the entire story he said it may form the basis of a future novel and prove quite as interesting as one of your own invention i had the time to listen of course one has time for anything and everything agreeable in the best place to hear the tale was in a victoria and with my good on the box with the coachman we set out at once on a drive to the as the recital was only half through when we reached the house we postponed the remainder while we stopped there for an excellent lunch on the way back to my friend continued and finished the story it was indeed quite suitable for use and i told my friend with thanks that i should at once put it in shape for my readers i said i should make a few alterations in it for the sake of dramatic interest but in the main would follow the lines he had given me it would spoil my romance were i to answer on this page the question that must be uppermost in the reader s mind i have already revealed almost too much of the plot for the rest i must refer you t without more to the chapters that follow chapter i in a it was very early in the morning and the responded to the call of the young american on the the rowed leisurely to the bank for the gentry to which he belongs does not easily get excited and helped his fare into the with a grace inherited from generations of polite ancestors where he asked in his italian and the young man who hardly knew a word of the language had no difficulty in the meaning of the question anywhere he answered with a wave of his hand as easily understood as the term used by the other he wanted an early row among the of and as he had been in the silent city love gone astray but a short time one direction was as agreeable to him as another the took his long oar and began to his craft by those strange sweeping motions that so interest and puzzle one unused to this style of standing well back toward the stern he sent the beautiful creature of which he seemed a part as gracefully through the water as any swan he rowed slowly both from preference and because it was evident that haste was not desired by his passenger he rowed because there is no other mode known to the of from the attendant of a to the freight who brings a load of from the or of vegetables from the islands where the market gardens are for a while the course of the boat lay along the grand canal it passed under the venerable as solid as london bridge in effect one massive stone that will be as far as human judgment can foresee until the earth is in its final on either side of the canal long lines of palaces shone in the early light their occupants for the most part yet invisible was still asleep lovely as she is at all times this stately creature is never so pretty as when in repose a glide along her watery streets just before sunrise is like moving silently through a garden where lie in slumber in there is no wheeled carriage of any description not a horse mule ox goat sheep puts his foot upon her the station at which you arrive by train is at an extreme corner of the in a city and even its necessary noise is tempered by the surroundings the only of passenger or goods service are the boats which make hardly more disturbance for the ear than a fish passing over the same route every sound and when the city she is capable of many sounds proceeds from the voices of individuals or the of the sacred that are fed by thousands at all hours in the of st mark the of various wares seems to feel that it is incumbent upon him to mock the echoes of the winding over which one may stroll the themselves when there is a possible occasion cry out to each other in weird tones especially at narrow of the side to prevent collision with craft approaching silently from beyond the stone and brick of a corner besides in protest of the natural stillness of their city they quarrel for hours in front of the principal hotels with as much effect as a parcel of highly birds in an african forest but for these things would be as quiet as the in which the pin is about to drop or as a in a superstitious neighborhood at the morning hour when young gray rode in his under the these noises had only faintly begun and the delight he felt in his excursion was great he wanted the effect of solitude with the hidden from sight by his position the boat seemed by a sail or the force of a tide until men have mastered the currents of the love gone upper air and can voyage whither they please in the there will be no effect so nearly like it as to float on the bosom of a canal the drift the current of a river does not give the same impression for there is a tiresome row in prospect before the starting point can be regained no boat by machinery even the tidy little equals it for the noise of the wheels cannot entirely be and the smell of the themselves in spite of all precaution to the nostrils the may give more excitement as she bird like across the waters of the sea but she does not lull the senses and transport the into another world from which he may return at pleasure only the does this why did gray '"
      ]
     },
     "execution_count": 7,
     "metadata": {},
     "output_type": "execute_result"
    }
   ],
   "source": [
    "text[0]"
   ]
  },
  {
   "cell_type": "markdown",
   "metadata": {
    "id": "qMm2D-6CcMpj"
   },
   "source": [
    "### Exercises\n",
    "\n",
    "1. Use the `CountVectorizer` from `sklearn.feature_extraction.text` to produce a term frequency vector for each text.  Set `max_features=1000` to only use the top 1000 terms.\n",
    "\n",
    "Prepare a 90/10 train-test split `random_state=42`.\n",
    "\n",
    "Train the default `MLPCLassifier` from `sklearn.neural_network` on the data and report the train and test accuracy.  You can use the argument `verbose=True` to `MLPClassifier` to monitor training."
   ]
  },
  {
   "cell_type": "code",
   "execution_count": 8,
   "metadata": {},
   "outputs": [],
   "source": [
    "from sklearn.feature_extraction.text import CountVectorizer, TfidfVectorizer\n",
    "from sklearn.model_selection import train_test_split\n",
    "from sklearn.neural_network import MLPClassifier"
   ]
  },
  {
   "cell_type": "code",
   "execution_count": 9,
   "metadata": {},
   "outputs": [],
   "source": [
    "test_size = 0.10\n",
    "vector_text = CountVectorizer(max_features=1_000).fit_transform(text)\n",
    "X_train, X_test, y_train, y_test = train_test_split(vector_text, labels, test_size=test_size)"
   ]
  },
  {
   "cell_type": "code",
   "execution_count": 10,
   "metadata": {},
   "outputs": [
    {
     "name": "stdout",
     "output_type": "stream",
     "text": [
      "Train acc: 0.9998137031670462\n",
      "Test acc: 0.944113263785395\n"
     ]
    }
   ],
   "source": [
    "model = MLPClassifier(max_iter=200)\n",
    "model.fit(X_train, y_train)\n",
    "\n",
    "print(f'Train acc: {model.score(X_train, y_train)}')\n",
    "print(f'Test acc: {model.score(X_test, y_test)}')"
   ]
  },
  {
   "cell_type": "markdown",
   "metadata": {
    "id": "bscBHmXududo"
   },
   "source": [
    "\n",
    "2. Repeat the steps but using `TfidfVectorizer` to produce term frequency - inverse document frequency vectors.\n",
    "\n",
    "Does the IDF weighting improve the results?"
   ]
  },
  {
   "cell_type": "code",
   "execution_count": 11,
   "metadata": {
    "id": "oVHb29MztMlN"
   },
   "outputs": [],
   "source": [
    "tfidf_text = TfidfVectorizer().fit_transform(text)\n",
    "X_train_tfidf, X_test_tfidf, y_train_tfidf, y_test_tfidf = train_test_split(tfidf_text, labels, test_size=test_size)"
   ]
  },
  {
   "cell_type": "code",
   "execution_count": 14,
   "metadata": {},
   "outputs": [
    {
     "name": "stdout",
     "output_type": "stream",
     "text": [
      "Train acc: 1.0\n",
      "Test acc: 0.9837928464977646\n"
     ]
    }
   ],
   "source": [
    "model_tfidf = MLPClassifier(max_iter=200)\n",
    "model_tfidf.fit(X_train_tfidf, y_train_tfidf)\n",
    "\n",
    "print(f'Train acc: {model_tfidf.score(X_train_tfidf, y_train_tfidf)}')\n",
    "print(f'Test acc: {model_tfidf.score(X_test_tfidf, y_test_tfidf)}')"
   ]
  },
  {
   "cell_type": "markdown",
   "metadata": {},
   "source": [
    "Woooah it totally does, perfect accuracy on the train set, and near perfect accuracy on the test set, or a large improvement from 0.84 to 0.98"
   ]
  }
 ],
 "metadata": {
  "colab": {
   "provenance": []
  },
  "kernelspec": {
   "display_name": "Python 3 (ipykernel)",
   "language": "python",
   "name": "python3"
  },
  "language_info": {
   "codemirror_mode": {
    "name": "ipython",
    "version": 3
   },
   "file_extension": ".py",
   "mimetype": "text/x-python",
   "name": "python",
   "nbconvert_exporter": "python",
   "pygments_lexer": "ipython3",
   "version": "3.9.21"
  }
 },
 "nbformat": 4,
 "nbformat_minor": 4
}
