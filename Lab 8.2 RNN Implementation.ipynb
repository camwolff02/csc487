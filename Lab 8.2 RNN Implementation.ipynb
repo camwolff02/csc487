{
 "cells": [
  {
   "cell_type": "markdown",
   "metadata": {},
   "source": [
    "### Lab 8.1 RNN Implementation"
   ]
  },
  {
   "cell_type": "markdown",
   "metadata": {},
   "source": [
    "This week we will work up to creating an RNN text generator.  In today's lab you will implement a basic RNN."
   ]
  },
  {
   "cell_type": "code",
   "execution_count": 6,
   "metadata": {},
   "outputs": [],
   "source": [
    "import torch\n",
    "from torch import nn\n",
    "from torch.nn import functional as F\n",
    "import numpy as np"
   ]
  },
  {
   "cell_type": "markdown",
   "metadata": {},
   "source": [
    "1. Complete the following implementation of an RNN.   Run the code to verify that the output shape is what it should be."
   ]
  },
  {
   "cell_type": "code",
   "execution_count": 20,
   "metadata": {},
   "outputs": [
    {
     "data": {
      "text/plain": [
       "torch.Size([1, 5, 30])"
      ]
     },
     "execution_count": 20,
     "metadata": {},
     "output_type": "execute_result"
    }
   ],
   "source": [
    "class RNN(nn.Module):\n",
    "    def __init__(self, input_size, hidden_size, output_size): \n",
    "        super(RNN, self).__init__()\n",
    "        self.hidden_size = hidden_size\n",
    "        self.U = nn.Linear(input_size, hidden_size)\n",
    "        self.W = nn.Linear(hidden_size, hidden_size)\n",
    "        self.V = nn.Linear(hidden_size, output_size) \n",
    "\n",
    "    def forward(self, x):\n",
    "        # x is a batch of embedding vector sequences of shape [B,N,C] where N is the sequence length, C is the input size\n",
    "        # forward pass should process the sequence and produce a sequence of N outputs\n",
    "        # output shape should be [B,N,O] where O is the output size\n",
    "        B, N, C = x.shape\n",
    "        h = torch.zeros(self.hidden_size, device=x.device)\n",
    "        out = []\n",
    "        for i in range(N):\n",
    "            h = F.relu(self.U(x[:, i, :]) + self.W(h))\n",
    "            y = self.V(h)\n",
    "            out.append(y)\n",
    "        return torch.stack(out, dim=1)\n",
    "    \n",
    "  \n",
    "model = RNN(10, 20, 30)\n",
    "\n",
    "x = torch.rand(1, 5, 10)\n",
    "y = model(x)\n",
    "\n",
    "y.shape"
   ]
  },
  {
   "cell_type": "code",
   "execution_count": null,
   "metadata": {},
   "outputs": [],
   "source": []
  }
 ],
 "metadata": {
  "kernelspec": {
   "display_name": "Python 3 (ipykernel)",
   "language": "python",
   "name": "python3"
  },
  "language_info": {
   "codemirror_mode": {
    "name": "ipython",
    "version": 3
   },
   "file_extension": ".py",
   "mimetype": "text/x-python",
   "name": "python",
   "nbconvert_exporter": "python",
   "pygments_lexer": "ipython3",
   "version": "3.9.21"
  }
 },
 "nbformat": 4,
 "nbformat_minor": 4
}
