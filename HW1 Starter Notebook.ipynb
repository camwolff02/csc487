{
 "cells": [
  {
   "cell_type": "markdown",
   "metadata": {},
   "source": [
    "# Homework 1: Classification with Tabular Data\n",
    "\n",
    "Cameron Wolff, see bottom for report"
   ]
  },
  {
   "cell_type": "code",
   "execution_count": 1,
   "metadata": {
    "colab": {
     "background_save": true
    },
    "id": "5OUW75f1w56j"
   },
   "outputs": [],
   "source": [
    "import numpy as np\n",
    "import sklearn\n",
    "import torch\n",
    "import os"
   ]
  },
  {
   "cell_type": "code",
   "execution_count": 2,
   "metadata": {
    "colab": {
     "background_save": true
    },
    "id": "CNAG8fBHw_ns"
   },
   "outputs": [],
   "source": [
    "if not os.path.exists('tree_species_classifier_data.npz'):\n",
    "  !wget -O tree_species_classifier_data.npz \"https://www.dropbox.com/scl/fi/b7mw23k3ifaeui9m8nnn3/tree_species_classifier_data.npz?rlkey=bgxp37c1t04i7q35waf3slc26&dl=1\""
   ]
  },
  {
   "cell_type": "code",
   "execution_count": 3,
   "metadata": {
    "colab": {
     "background_save": true
    },
    "id": "XSnb9owtxT5w"
   },
   "outputs": [],
   "source": [
    "data = np.load('tree_species_classifier_data.npz')\n",
    "train_features = data['train_features']\n",
    "train_labels = data['train_labels']\n",
    "test_features = data['test_features']\n",
    "test_labels = data['test_labels']"
   ]
  },
  {
   "cell_type": "code",
   "execution_count": 4,
   "metadata": {},
   "outputs": [
    {
     "data": {
      "text/plain": [
       "array([1, 1, 1, ..., 7, 7, 7], shape=(15707,), dtype=uint8)"
      ]
     },
     "execution_count": 4,
     "metadata": {},
     "output_type": "execute_result"
    }
   ],
   "source": [
    "# Inspecting the data\n",
    "train_labels"
   ]
  },
  {
   "cell_type": "code",
   "execution_count": 5,
   "metadata": {},
   "outputs": [
    {
     "data": {
      "text/plain": [
       "array([0, 1, 2, 3, 4, 5, 6, 7], dtype=uint8)"
      ]
     },
     "execution_count": 5,
     "metadata": {},
     "output_type": "execute_result"
    }
   ],
   "source": [
    "np.unique(train_labels)"
   ]
  },
  {
   "cell_type": "code",
   "execution_count": 6,
   "metadata": {},
   "outputs": [
    {
     "data": {
      "text/plain": [
       "array([[   0,  338,  252, ...,  113,  116,  152],\n",
       "       [   0,  453,  339, ...,  120,  117,  150],\n",
       "       [   0,  460,  378, ...,  122,  143,  155],\n",
       "       ...,\n",
       "       [   0,  785,  710, ...,  720,  715,  711],\n",
       "       [   0,  838,  663, ...,  704,  649,  673],\n",
       "       [   0, 1056,  761, ...,  790,  707,  776]],\n",
       "      shape=(15707, 426), dtype=int16)"
      ]
     },
     "execution_count": 6,
     "metadata": {},
     "output_type": "execute_result"
    }
   ],
   "source": [
    "train_features"
   ]
  },
  {
   "cell_type": "code",
   "execution_count": 7,
   "metadata": {},
   "outputs": [
    {
     "data": {
      "text/plain": [
       "((1554,), (1554, 426))"
      ]
     },
     "execution_count": 7,
     "metadata": {},
     "output_type": "execute_result"
    }
   ],
   "source": [
    "test_labels.shape, test_features.shape"
   ]
  },
  {
   "cell_type": "code",
   "execution_count": 8,
   "metadata": {},
   "outputs": [
    {
     "data": {
      "text/plain": [
       "((array([ 81., 148.,  62.,   9.,   6.,  17.,  24.,  18.,  48.,  13.]),\n",
       "  array([   0.,  181.,  362.,  543.,  724.,  905., 1086., 1267., 1448.,\n",
       "         1629., 1810.]),\n",
       "  <BarContainer object of 10 artists>),\n",
       " (array([  1.,  55., 138.,  40.,  56.,   6.,   9.,  25.,  49.,  47.]),\n",
       "  array([   0. ,  369.6,  739.2, 1108.8, 1478.4, 1848. , 2217.6, 2587.2,\n",
       "         2956.8, 3326.4, 3696. ]),\n",
       "  <BarContainer object of 10 artists>))"
      ]
     },
     "execution_count": 8,
     "metadata": {},
     "output_type": "execute_result"
    },
    {
     "data": {
      "image/png": "[encoded data removed]",
      "text/plain": [
       "<Figure size 640x480 with 1 Axes>"
      ]
     },
     "metadata": {},
     "output_type": "display_data"
    }
   ],
   "source": [
    "import matplotlib.pyplot as plt\n",
    "\n",
    "plt.hist(train_features[0], alpha=0.5), plt.hist(train_features[len(train_features[0])-1], alpha=0.5)"
   ]
  },
  {
   "cell_type": "code",
   "execution_count": 10,
   "metadata": {},
   "outputs": [],
   "source": [
    "# Pre-Processing\n",
    "pca = sklearn.decomposition.PCA(n_components=32, whiten=True)\n",
    "\n",
    "train_features_reduced = pca.fit_transform(train_features)\n",
    "test_features_reduced = pca.transform(test_features)"
   ]
  },
  {
   "cell_type": "code",
   "execution_count": 11,
   "metadata": {},
   "outputs": [
    {
     "name": "stdout",
     "output_type": "stream",
     "text": [
      "Linear Classifier accuracy: 0.833976833976834\n",
      "Neural Network Classifier accuracy: 0.797940797940798\n"
     ]
    }
   ],
   "source": [
    "# Classifiers using scikit-learn\n",
    "sklearn_linear = sklearn.linear_model.LogisticRegression()\n",
    "sklearn_linear.fit(train_features_reduced, train_labels)\n",
    "\n",
    "sklearn_nn = sklearn.neural_network.MLPClassifier(\n",
    "    hidden_layer_sizes=(100,), activation='relu', max_iter=1_000)\n",
    "sklearn_nn.fit(train_features_reduced, train_labels)\n",
    "\n",
    "sklearn_linear_accuracy = sklearn.metrics.accuracy_score(\n",
    "    sklearn_linear.predict(test_features_reduced), \n",
    "    test_labels)\n",
    "sklearn_nn_accuracy = sklearn.metrics.accuracy_score(\n",
    "    sklearn_nn.predict(test_features_reduced), \n",
    "    test_labels)\n",
    "\n",
    "print(f'Linear Classifier accuracy: {sklearn_linear_accuracy}')\n",
    "print(f'Neural Network Classifier accuracy: {sklearn_nn_accuracy}')"
   ]
  },
  {
   "cell_type": "code",
   "execution_count": 12,
   "metadata": {},
   "outputs": [],
   "source": [
    "# Classifiers using PyTorch\n",
    "\n",
    "# a. Create a TensorDataset and DataLoader with batch size 32, train using random shuffling\n",
    "batch_size = 32\n",
    "\n",
    "train_dataloader = torch.utils.data.DataLoader(\n",
    "    torch.utils.data.TensorDataset(\n",
    "        torch.tensor(train_features_reduced, dtype=torch.float32), \n",
    "        torch.tensor(train_labels, dtype=torch.long)),\n",
    "    batch_size=batch_size,\n",
    "    shuffle=True\n",
    ")\n",
    "\n",
    "test_dataloader = torch.utils.data.DataLoader(\n",
    "    torch.utils.data.TensorDataset(\n",
    "        torch.tensor(test_features_reduced, dtype=torch.float32), \n",
    "        torch.tensor(test_labels, dtype=torch.long)),\n",
    "    batch_size=batch_size,\n",
    ")"
   ]
  },
  {
   "cell_type": "code",
   "execution_count": 13,
   "metadata": {},
   "outputs": [],
   "source": [
    "# calculates the accuracy of the model\n",
    "def accuracy(model, dataloader: torch.utils.data.DataLoader):\n",
    "    model.eval()  # Set the model to evaluation mode\n",
    "\n",
    "    acc = None\n",
    "    with torch.no_grad():  # Disable gradient calculation\n",
    "        correct = 0\n",
    "        total = 0\n",
    "        for features_train, labels_train in iter(dataloader):        \n",
    "            z = torch.argmax(model(features_train), dim=1)\n",
    "            correct += (z == labels_train).float().sum()\n",
    "            total += z.shape[0]\n",
    "            \n",
    "        acc = correct / total\n",
    "    return acc"
   ]
  },
  {
   "cell_type": "code",
   "execution_count": 14,
   "metadata": {},
   "outputs": [],
   "source": [
    "# trains the model\n",
    "def train(model, dataloader: torch.utils.data.DataLoader):\n",
    "    lr = 1e-2\n",
    "    weight_decay = 0.001\n",
    "    epochs = 100\n",
    "    opt = torch.optim.SGD(model.parameters(), lr=lr, weight_decay=weight_decay)\n",
    "    loss_fn = torch.nn.CrossEntropyLoss()\n",
    "\n",
    "    for epoch in range(epochs):\n",
    "        opt.zero_grad() # zero out the gradients\n",
    "    \n",
    "        features_train, labels_train = next(iter(dataloader)) \n",
    "\n",
    "        z = model(features_train) # compute model outputs\n",
    "        loss = loss_fn(z, labels_train) # compute loss\n",
    "    \n",
    "        loss.backward() # compute gradients\n",
    "    \n",
    "        opt.step() # apply gradients in optimizer step\n",
    "        \n",
    "        print(f'accuracy | train {accuracy(torch_linear, train_dataloader):.4f} | test {accuracy(torch_linear, test_dataloader):.4f}')"
   ]
  },
  {
   "cell_type": "code",
   "execution_count": 18,
   "metadata": {},
   "outputs": [
    {
     "name": "stdout",
     "output_type": "stream",
     "text": [
      "Linear Classifier\n",
      "accuracy | train 0.1604 | test 0.1667\n",
      "accuracy | train 0.1622 | test 0.1673\n",
      "accuracy | train 0.1637 | test 0.1692\n",
      "accuracy | train 0.1656 | test 0.1705\n",
      "accuracy | train 0.1674 | test 0.1725\n",
      "accuracy | train 0.1708 | test 0.1744\n",
      "accuracy | train 0.1726 | test 0.1750\n",
      "accuracy | train 0.1744 | test 0.1770\n",
      "accuracy | train 0.1775 | test 0.1776\n",
      "accuracy | train 0.1787 | test 0.1821\n",
      "accuracy | train 0.1808 | test 0.1834\n",
      "accuracy | train 0.1829 | test 0.1840\n",
      "accuracy | train 0.1857 | test 0.1840\n",
      "accuracy | train 0.1872 | test 0.1866\n",
      "accuracy | train 0.1886 | test 0.1892\n",
      "accuracy | train 0.1907 | test 0.1911\n",
      "accuracy | train 0.1927 | test 0.1937\n",
      "accuracy | train 0.1955 | test 0.1963\n",
      "accuracy | train 0.1981 | test 0.1988\n",
      "accuracy | train 0.2004 | test 0.2001\n",
      "accuracy | train 0.2028 | test 0.2027\n",
      "accuracy | train 0.2062 | test 0.2059\n",
      "accuracy | train 0.2094 | test 0.2085\n",
      "accuracy | train 0.2129 | test 0.2111\n",
      "accuracy | train 0.2158 | test 0.2136\n",
      "accuracy | train 0.2184 | test 0.2149\n",
      "accuracy | train 0.2211 | test 0.2169\n",
      "accuracy | train 0.2240 | test 0.2181\n",
      "accuracy | train 0.2265 | test 0.2201\n",
      "accuracy | train 0.2293 | test 0.2239\n",
      "accuracy | train 0.2322 | test 0.2246\n",
      "accuracy | train 0.2348 | test 0.2259\n",
      "accuracy | train 0.2372 | test 0.2291\n",
      "accuracy | train 0.2393 | test 0.2291\n",
      "accuracy | train 0.2419 | test 0.2304\n",
      "accuracy | train 0.2444 | test 0.2342\n",
      "accuracy | train 0.2473 | test 0.2362\n",
      "accuracy | train 0.2497 | test 0.2381\n",
      "accuracy | train 0.2517 | test 0.2394\n",
      "accuracy | train 0.2545 | test 0.2413\n",
      "accuracy | train 0.2568 | test 0.2420\n",
      "accuracy | train 0.2592 | test 0.2439\n",
      "accuracy | train 0.2622 | test 0.2445\n",
      "accuracy | train 0.2647 | test 0.2452\n",
      "accuracy | train 0.2682 | test 0.2452\n",
      "accuracy | train 0.2716 | test 0.2471\n",
      "accuracy | train 0.2741 | test 0.2497\n",
      "accuracy | train 0.2765 | test 0.2510\n",
      "accuracy | train 0.2789 | test 0.2497\n",
      "accuracy | train 0.2819 | test 0.2497\n",
      "accuracy | train 0.2855 | test 0.2516\n",
      "accuracy | train 0.2889 | test 0.2568\n",
      "accuracy | train 0.2919 | test 0.2600\n",
      "accuracy | train 0.2955 | test 0.2632\n",
      "accuracy | train 0.2970 | test 0.2651\n",
      "accuracy | train 0.2988 | test 0.2664\n",
      "accuracy | train 0.3016 | test 0.2690\n",
      "accuracy | train 0.3048 | test 0.2716\n",
      "accuracy | train 0.3078 | test 0.2741\n",
      "accuracy | train 0.3108 | test 0.2819\n",
      "accuracy | train 0.3141 | test 0.2844\n",
      "accuracy | train 0.3173 | test 0.2889\n",
      "accuracy | train 0.3206 | test 0.2921\n",
      "accuracy | train 0.3231 | test 0.2941\n",
      "accuracy | train 0.3260 | test 0.2960\n",
      "accuracy | train 0.3292 | test 0.3031\n",
      "accuracy | train 0.3320 | test 0.3057\n",
      "accuracy | train 0.3360 | test 0.3082\n",
      "accuracy | train 0.3391 | test 0.3108\n",
      "accuracy | train 0.3412 | test 0.3147\n",
      "accuracy | train 0.3429 | test 0.3153\n",
      "accuracy | train 0.3457 | test 0.3166\n",
      "accuracy | train 0.3486 | test 0.3192\n",
      "accuracy | train 0.3519 | test 0.3224\n",
      "accuracy | train 0.3551 | test 0.3237\n",
      "accuracy | train 0.3586 | test 0.3263\n",
      "accuracy | train 0.3612 | test 0.3333\n",
      "accuracy | train 0.3644 | test 0.3366\n",
      "accuracy | train 0.3673 | test 0.3411\n",
      "accuracy | train 0.3710 | test 0.3436\n",
      "accuracy | train 0.3734 | test 0.3468\n",
      "accuracy | train 0.3759 | test 0.3488\n",
      "accuracy | train 0.3790 | test 0.3520\n",
      "accuracy | train 0.3801 | test 0.3559\n",
      "accuracy | train 0.3830 | test 0.3604\n",
      "accuracy | train 0.3862 | test 0.3642\n",
      "accuracy | train 0.3903 | test 0.3681\n",
      "accuracy | train 0.3928 | test 0.3732\n",
      "accuracy | train 0.3961 | test 0.3777\n",
      "accuracy | train 0.3996 | test 0.3822\n",
      "accuracy | train 0.4030 | test 0.3855\n",
      "accuracy | train 0.4066 | test 0.3887\n",
      "accuracy | train 0.4106 | test 0.3893\n",
      "accuracy | train 0.4125 | test 0.3912\n",
      "accuracy | train 0.4162 | test 0.3970\n",
      "accuracy | train 0.4195 | test 0.4009\n",
      "accuracy | train 0.4211 | test 0.4048\n",
      "accuracy | train 0.4242 | test 0.4035\n",
      "accuracy | train 0.4272 | test 0.4131\n",
      "accuracy | train 0.4293 | test 0.4144\n",
      "\n",
      "Neural Network Classifier\n",
      "accuracy | train 0.4293 | test 0.4144\n",
      "accuracy | train 0.4293 | test 0.4144\n",
      "accuracy | train 0.4293 | test 0.4144\n",
      "accuracy | train 0.4293 | test 0.4144\n",
      "accuracy | train 0.4293 | test 0.4144\n",
      "accuracy | train 0.4293 | test 0.4144\n",
      "accuracy | train 0.4293 | test 0.4144\n",
      "accuracy | train 0.4293 | test 0.4144\n",
      "accuracy | train 0.4293 | test 0.4144\n",
      "accuracy | train 0.4293 | test 0.4144\n",
      "accuracy | train 0.4293 | test 0.4144\n",
      "accuracy | train 0.4293 | test 0.4144\n",
      "accuracy | train 0.4293 | test 0.4144\n",
      "accuracy | train 0.4293 | test 0.4144\n",
      "accuracy | train 0.4293 | test 0.4144\n",
      "accuracy | train 0.4293 | test 0.4144\n",
      "accuracy | train 0.4293 | test 0.4144\n",
      "accuracy | train 0.4293 | test 0.4144\n",
      "accuracy | train 0.4293 | test 0.4144\n",
      "accuracy | train 0.4293 | test 0.4144\n",
      "accuracy | train 0.4293 | test 0.4144\n",
      "accuracy | train 0.4293 | test 0.4144\n",
      "accuracy | train 0.4293 | test 0.4144\n",
      "accuracy | train 0.4293 | test 0.4144\n",
      "accuracy | train 0.4293 | test 0.4144\n",
      "accuracy | train 0.4293 | test 0.4144\n",
      "accuracy | train 0.4293 | test 0.4144\n",
      "accuracy | train 0.4293 | test 0.4144\n",
      "accuracy | train 0.4293 | test 0.4144\n",
      "accuracy | train 0.4293 | test 0.4144\n",
      "accuracy | train 0.4293 | test 0.4144\n",
      "accuracy | train 0.4293 | test 0.4144\n",
      "accuracy | train 0.4293 | test 0.4144\n",
      "accuracy | train 0.4293 | test 0.4144\n",
      "accuracy | train 0.4293 | test 0.4144\n",
      "accuracy | train 0.4293 | test 0.4144\n",
      "accuracy | train 0.4293 | test 0.4144\n",
      "accuracy | train 0.4293 | test 0.4144\n",
      "accuracy | train 0.4293 | test 0.4144\n",
      "accuracy | train 0.4293 | test 0.4144\n",
      "accuracy | train 0.4293 | test 0.4144\n",
      "accuracy | train 0.4293 | test 0.4144\n",
      "accuracy | train 0.4293 | test 0.4144\n",
      "accuracy | train 0.4293 | test 0.4144\n",
      "accuracy | train 0.4293 | test 0.4144\n",
      "accuracy | train 0.4293 | test 0.4144\n",
      "accuracy | train 0.4293 | test 0.4144\n",
      "accuracy | train 0.4293 | test 0.4144\n",
      "accuracy | train 0.4293 | test 0.4144\n",
      "accuracy | train 0.4293 | test 0.4144\n",
      "accuracy | train 0.4293 | test 0.4144\n",
      "accuracy | train 0.4293 | test 0.4144\n",
      "accuracy | train 0.4293 | test 0.4144\n",
      "accuracy | train 0.4293 | test 0.4144\n",
      "accuracy | train 0.4293 | test 0.4144\n",
      "accuracy | train 0.4293 | test 0.4144\n",
      "accuracy | train 0.4293 | test 0.4144\n",
      "accuracy | train 0.4293 | test 0.4144\n",
      "accuracy | train 0.4293 | test 0.4144\n",
      "accuracy | train 0.4293 | test 0.4144\n",
      "accuracy | train 0.4293 | test 0.4144\n",
      "accuracy | train 0.4293 | test 0.4144\n",
      "accuracy | train 0.4293 | test 0.4144\n",
      "accuracy | train 0.4293 | test 0.4144\n",
      "accuracy | train 0.4293 | test 0.4144\n",
      "accuracy | train 0.4293 | test 0.4144\n",
      "accuracy | train 0.4293 | test 0.4144\n",
      "accuracy | train 0.4293 | test 0.4144\n",
      "accuracy | train 0.4293 | test 0.4144\n",
      "accuracy | train 0.4293 | test 0.4144\n",
      "accuracy | train 0.4293 | test 0.4144\n",
      "accuracy | train 0.4293 | test 0.4144\n",
      "accuracy | train 0.4293 | test 0.4144\n",
      "accuracy | train 0.4293 | test 0.4144\n",
      "accuracy | train 0.4293 | test 0.4144\n",
      "accuracy | train 0.4293 | test 0.4144\n",
      "accuracy | train 0.4293 | test 0.4144\n",
      "accuracy | train 0.4293 | test 0.4144\n",
      "accuracy | train 0.4293 | test 0.4144\n",
      "accuracy | train 0.4293 | test 0.4144\n",
      "accuracy | train 0.4293 | test 0.4144\n",
      "accuracy | train 0.4293 | test 0.4144\n",
      "accuracy | train 0.4293 | test 0.4144\n",
      "accuracy | train 0.4293 | test 0.4144\n",
      "accuracy | train 0.4293 | test 0.4144\n",
      "accuracy | train 0.4293 | test 0.4144\n",
      "accuracy | train 0.4293 | test 0.4144\n",
      "accuracy | train 0.4293 | test 0.4144\n",
      "accuracy | train 0.4293 | test 0.4144\n",
      "accuracy | train 0.4293 | test 0.4144\n",
      "accuracy | train 0.4293 | test 0.4144\n",
      "accuracy | train 0.4293 | test 0.4144\n",
      "accuracy | train 0.4293 | test 0.4144\n",
      "accuracy | train 0.4293 | test 0.4144\n",
      "accuracy | train 0.4293 | test 0.4144\n",
      "accuracy | train 0.4293 | test 0.4144\n",
      "accuracy | train 0.4293 | test 0.4144\n",
      "accuracy | train 0.4293 | test 0.4144\n",
      "accuracy | train 0.4293 | test 0.4144\n",
      "accuracy | train 0.4293 | test 0.4144\n"
     ]
    }
   ],
   "source": [
    "# train a linear classifier and a neural network\n",
    "torch_linear = torch.nn.Linear(32, 8)\n",
    "\n",
    "# 32 input layer, 100 hidden layer, 2 output layer\n",
    "torch_nn = torch.nn.Sequential(\n",
    "    torch.nn.Linear(32, 100),\n",
    "    torch.nn.SiLU(), \n",
    "    torch.nn.Linear(100, 8),\n",
    "    torch.nn.Sigmoid()\n",
    ")\n",
    "\n",
    "print('Linear Classifier')\n",
    "train(torch_linear, train_dataloader)\n",
    "print('\\nNeural Network Classifier')\n",
    "train(torch_nn, train_dataloader)\n"
   ]
  },
  {
   "cell_type": "markdown",
   "metadata": {},
   "source": [
    "# Report\n",
    "\n",
    "### Code Explanation\n",
    "To solve this problem, I used a conventional approach following the problem's description, sticking to the sklearn toolbox for the first section, then switching to PyTorch and custom written functions for the second. \n",
    "\n",
    "The dataset appeared to have 8 unique labels, so when creating the PyTorch models I specified an output layer of that size.\n",
    "\n",
    "I used the sklearn and pytorch documentation to find specific function definitions. When I wanted more general syntax knowledge on API I was unframiliar with, or when I got stuck trying to determine layers not aligning when training my PyTorch models, I used the Quen2.5-Coder-14B LLM, pulled from hugging face. The model showed me example syntax for the functions, which I heavily tweaked to fit my code, and suggested I make sure my dataset only had 2 classes, which it did not. I chose a SiLu activation function for its improvements over ReLu for PyTorch, but this does not seem to have improved results. \n",
    "\n",
    "### Discussion\n",
    "Training matrix was 15,707x426, test matrix was 1,554x426. The rows are the records or samples of the dataset, which each appears to represent a hyperspectral image of one tree. The columns, or features, appear to represent different spectrum, and range from around 0 to 3,000. There are 8 classes corresponding to the following tree species: White fir, Red fir, Incense cedar, Jeffrey pine, Sugar pine, Black oak, Lodgepole pine, and Dead trees. Classes are provided unevenly, with much more of classes 3 and 7, but classes are distrubuted evenly between training and test data.\n",
    "\n",
    "Both pytorch models appear to not overfit the data, as the training and test accuracy is very low. The scikit learn results, with a higher 1,000 iterations, seem to have converged with a much higher accuracy. The linear model, surprisingly, has a higher accuracy than the more complex neural network."
   ]
  }
 ],
 "metadata": {
  "colab": {
   "authorship_tag": "ABX9TyNabx6sCRInWIIstR96Z5ey",
   "name": "",
   "version": ""
  },
  "kernelspec": {
   "display_name": "Python 3 (ipykernel)",
   "language": "python",
   "name": "python3"
  },
  "language_info": {
   "codemirror_mode": {
    "name": "ipython",
    "version": 3
   },
   "file_extension": ".py",
   "mimetype": "text/x-python",
   "name": "python",
   "nbconvert_exporter": "python",
   "pygments_lexer": "ipython3",
   "version": "3.12.3"
  }
 },
 "nbformat": 4,
 "nbformat_minor": 4
}
